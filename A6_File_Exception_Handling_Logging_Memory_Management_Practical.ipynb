{
  "nbformat": 4,
  "nbformat_minor": 0,
  "metadata": {
    "colab": {
      "provenance": []
    },
    "kernelspec": {
      "name": "python3",
      "display_name": "Python 3"
    },
    "language_info": {
      "name": "python"
    }
  },
  "cells": [
    {
      "cell_type": "markdown",
      "source": [
        "###**1. How can you open a file for writing in Python and write a string to it?**\n",
        "\n",
        "> We can open / create a file using the `open(\"filename\", mode = 'w')` function with w (write) mode. And we will use the with keyword which will automatically close the file. We can also use the try-except to handle any exceptions or errors."
      ],
      "metadata": {
        "id": "7f7DaW96-z7G"
      }
    },
    {
      "cell_type": "code",
      "execution_count": 19,
      "metadata": {
        "id": "4dBjOxUh-t7k",
        "colab": {
          "base_uri": "https://localhost:8080/"
        },
        "outputId": "d3f7e515-1ac8-4abb-8d97-b4f2325b07cc"
      },
      "outputs": [
        {
          "output_type": "stream",
          "name": "stdout",
          "text": [
            "File name 'demo_file.txt' created successfully in the present directory.\n"
          ]
        }
      ],
      "source": [
        "try:\n",
        "    with open( \"demo_file.txt\", 'w' ) as f:\n",
        "        f.write(\"Hello World! \\nThis is a new line. This will create a new file in the present working directory.\")\n",
        "    print(\"File name 'demo_file.txt' created successfully in the present directory.\")\n",
        "except Exception as e:\n",
        "    print(\"File not created due to: \", e)"
      ]
    },
    {
      "cell_type": "markdown",
      "source": [
        "###**2. Write a Python program to read the contents of a file and print each line**"
      ],
      "metadata": {
        "id": "LP59bvJL_ASN"
      }
    },
    {
      "cell_type": "code",
      "source": [
        "file_name = \"demo.txt\"\n",
        "\n",
        "try:\n",
        "    with open(file_name, 'r') as f:     #opening the file in read mode\n",
        "        for line in f:          #this loop will print the line one by one\n",
        "            print(line)\n",
        "\n",
        "except FileNotFoundError as e:\n",
        "    print(f\"File not found: {e}\")\n",
        "\n",
        "except Exception as e:\n",
        "    print(f\"An error occurred due to: {e}\")"
      ],
      "metadata": {
        "id": "Una7d_Qs_M0m",
        "colab": {
          "base_uri": "https://localhost:8080/"
        },
        "outputId": "aae5c7a8-2efd-4096-d1e6-c6f19fbc7093"
      },
      "execution_count": 22,
      "outputs": [
        {
          "output_type": "stream",
          "name": "stdout",
          "text": [
            "This is a new file. \n",
            "\n",
            "this is the 1st line.\n",
            "\n",
            "this is the second line.\n",
            "\n",
            "3rd line\n",
            "\n",
            "4th line.\n"
          ]
        }
      ]
    },
    {
      "cell_type": "markdown",
      "source": [
        "###**3. How would you handle a case where the file doesn't exist while trying to open it for reading?**\n",
        "\n",
        "> We wil use the `try-except` block to handle the situation where the file does not exist. This allow us to show the error without terminate the whole program for the error."
      ],
      "metadata": {
        "id": "WyRezQQY_NmG"
      }
    },
    {
      "cell_type": "code",
      "source": [
        "file_name = \"random_file.txt\"   #this file does not exist in the directory\n",
        "\n",
        "#now we will try to open the file in reading mode\n",
        "try:\n",
        "    with open(file_name, 'r') as f:\n",
        "        print(f.read())\n",
        "\n",
        "except FileNotFoundError as e:      #giving the specific / expected error condition when the file won't open\n",
        "    print(f\"File not found: {e}\")\n",
        "\n",
        "except Exception as e:      #for any other error this block will be executed\n",
        "    print(f\"An error occurred due to: {e}\")"
      ],
      "metadata": {
        "id": "mNIAOX0a_SYw",
        "colab": {
          "base_uri": "https://localhost:8080/"
        },
        "outputId": "6ace36d0-cb61-4f32-d1a3-48b0bad5a462"
      },
      "execution_count": 25,
      "outputs": [
        {
          "output_type": "stream",
          "name": "stdout",
          "text": [
            "File not found: [Errno 2] No such file or directory: 'random_file.txt'\n"
          ]
        }
      ]
    },
    {
      "cell_type": "markdown",
      "source": [
        "###**4. Write a Python script that reads from one file and writes its content to another file.**"
      ],
      "metadata": {
        "id": "q6Qv3JWj_TtM"
      }
    },
    {
      "cell_type": "code",
      "source": [
        "source_file = \"demo.txt\"    #we will the read the content from this file\n",
        "new_file = \"demo_copy.txt\"      #a new file named 'demo_copy' will be created with the same content\n",
        "\n",
        "try:\n",
        "    #first read from the file\n",
        "    with open(source_file, \"r\") as src:\n",
        "        content = src.read()        #storing the data\n",
        "\n",
        "    #now we will open the new file in w mode which will create a new file\n",
        "    with open(new_file, \"w\") as copy:\n",
        "        copy.write(content)             #this will write the same content in the new file\n",
        "    print(f\"A new file with the name '{new_file}' has been created with the same content as the file '{source_file}'.\")\n",
        "\n",
        "except FileNotFoundError as e:\n",
        "    print(f\"File not found: {e}\")\n",
        "\n",
        "except Exception as e:\n",
        "    print(f\"An error occurred due to: {e}\")\n",
        "\n"
      ],
      "metadata": {
        "id": "OSnhW9E8_agY",
        "colab": {
          "base_uri": "https://localhost:8080/"
        },
        "outputId": "8482923c-b2dd-4319-af93-ac9a35d2339c"
      },
      "execution_count": 27,
      "outputs": [
        {
          "output_type": "stream",
          "name": "stdout",
          "text": [
            "A new file with the name 'demo_copy.txt' has been created with the same content as the file 'demo.txt'.\n"
          ]
        }
      ]
    },
    {
      "cell_type": "markdown",
      "source": [
        "###**5. How would you catch and handle division by zero error in Python?**\n",
        "\n",
        "> We know in case of division by zero, python gives a `ZeroDivisionError`  so while using the `try-except` block we will specify the error in the except section and we will also give the general exception module in the next block of except to ensure any other type of errors."
      ],
      "metadata": {
        "id": "tQ1AVR67_bMI"
      }
    },
    {
      "cell_type": "code",
      "source": [
        "try:\n",
        "    # Get numbers from the user\n",
        "    numerator = int(input(\"Enter the numerator: \"))\n",
        "    denominator = int(input(\"Enter the denominator: \"))\n",
        "\n",
        "    # Perform division\n",
        "    result = numerator / denominator\n",
        "    print(f\"The result is: {result}\")\n",
        "except ZeroDivisionError as z:\n",
        "    print(f\"Error: {z}.. Division by zero is not allowed. Please provide a non-zero denominator..\")\n",
        "except ValueError as v:\n",
        "    print(f\"Error: {v}.. Invalid input..\")      #for any non numeric input\n",
        "except Exception as e:\n",
        "    print(f\"An error occurred due to: {e}\")\n",
        "else:\n",
        "    print(\"Division performed successfully.\")       #this block will be executed only if the try block executes successfully\n",
        "finally:\n",
        "    print(\"\\nThank you for using the division program.\")        #this will be executed always\n"
      ],
      "metadata": {
        "id": "dZJ0YS61_h4t",
        "colab": {
          "base_uri": "https://localhost:8080/"
        },
        "outputId": "a6e0df9e-6d4d-4836-c29c-f84314bbd0f0"
      },
      "execution_count": 4,
      "outputs": [
        {
          "output_type": "stream",
          "name": "stdout",
          "text": [
            "Enter the numerator: 5\n",
            "Enter the denominator: 0\n",
            "Error: division by zero.. Division by zero is not allowed. Please provide a non-zero denominator..\n",
            "\n",
            "Thank you for using the division program.\n"
          ]
        }
      ]
    },
    {
      "cell_type": "markdown",
      "source": [
        "###**6.  Write a Python program that logs an error message to a log file when a division by zero exception occurs.**"
      ],
      "metadata": {
        "id": "Le_fC8eZRjS6"
      }
    },
    {
      "cell_type": "code",
      "source": [
        "import logging\n",
        "\n",
        "# Configure logging to write to a file\n",
        "logging.basicConfig(\n",
        "    filename=\"error.log\",\n",
        "    level=logging.ERROR,\n",
        "    format=\"%(asctime)s - %(levelname)s - %(message)s\", force = True        #creates a log file\n",
        ")\n",
        "\n",
        "try:\n",
        "    numerator = int(input(\"Enter the numerator: \"))\n",
        "    denominator = int(input(\"Enter the denominator: \"))\n",
        "    result = numerator / denominator\n",
        "    print(f\"The result is: {result}\")\n",
        "except ZeroDivisionError:\n",
        "    logging.error(\"Attempted division by zero.\")\n",
        "    print(\"Error: Division by zero is not allowed.\")\n"
      ],
      "metadata": {
        "colab": {
          "base_uri": "https://localhost:8080/"
        },
        "id": "pb5oV60dRi_s",
        "outputId": "cc22d8a5-fd6a-4483-b7c4-55d8569d7b76"
      },
      "execution_count": 1,
      "outputs": [
        {
          "output_type": "stream",
          "name": "stdout",
          "text": [
            "Enter the numerator: 9\n",
            "Enter the denominator: 5\n",
            "The result is: 1.8\n"
          ]
        }
      ]
    },
    {
      "cell_type": "markdown",
      "source": [
        "##7. How do you log information at different levels (INFO, ERROR, WARNING) in Python using the logging module?"
      ],
      "metadata": {
        "id": "JpArctLycIMA"
      }
    },
    {
      "cell_type": "code",
      "source": [
        "import logging\n",
        "\n",
        "# Configure logging\n",
        "logging.basicConfig(\n",
        "    filename=\"log_levels.log\",\n",
        "    level=logging.DEBUG,\n",
        "    format=\"%(asctime)s - %(levelname)s - %(message)s\", force = True\n",
        ")\n",
        "\n",
        "# Log messages at different levels\n",
        "logging.debug(\"This is a debug message.\")\n",
        "logging.info(\"This is an info message.\")\n",
        "logging.warning(\"This is a warning message.\")\n",
        "logging.error(\"This is an error message.\")\n",
        "logging.critical(\"This is a critical message.\")\n",
        "logging.shutdown()"
      ],
      "metadata": {
        "id": "iXnTrI62cON7"
      },
      "execution_count": 4,
      "outputs": []
    },
    {
      "cell_type": "markdown",
      "source": [
        "##8. Write a program to handle a file opening error using exception handling."
      ],
      "metadata": {
        "id": "hQqbg-HUciTq"
      }
    },
    {
      "cell_type": "code",
      "source": [
        "try:\n",
        "    with open(\"no_file.txt\", \"r\") as file:\n",
        "        content = file.read()\n",
        "        print(content)\n",
        "except FileNotFoundError:\n",
        "    print(\"Error: The file does not exist.\")\n",
        "except Exception as e:\n",
        "    print(f\"An unexpected error occurred: {e}\")"
      ],
      "metadata": {
        "colab": {
          "base_uri": "https://localhost:8080/"
        },
        "id": "3e8-DF5fciCa",
        "outputId": "e5623282-4676-4482-8086-f1ac66138b46"
      },
      "execution_count": 5,
      "outputs": [
        {
          "output_type": "stream",
          "name": "stdout",
          "text": [
            "Error: The file does not exist.\n"
          ]
        }
      ]
    },
    {
      "cell_type": "markdown",
      "source": [
        "### 9.  How can you read a file line by line and store its content in a list in Python?"
      ],
      "metadata": {
        "id": "2_kRtfhKcwbE"
      }
    },
    {
      "cell_type": "code",
      "source": [
        "lines = []\n",
        "try:\n",
        "    with open(\"example.txt\", \"r\") as file:\n",
        "        lines = file.readlines()  # Reads lines into a list\n",
        "        print(\"File content stored in a list:\")\n",
        "        print(lines)\n",
        "except FileNotFoundError:\n",
        "    print(\"Error: File not found.\")\n"
      ],
      "metadata": {
        "colab": {
          "base_uri": "https://localhost:8080/"
        },
        "id": "n3qjWFk5cRX6",
        "outputId": "491c5dfa-6f15-4e41-e2c0-e9703b55cc7f"
      },
      "execution_count": 6,
      "outputs": [
        {
          "output_type": "stream",
          "name": "stdout",
          "text": [
            "Error: File not found.\n"
          ]
        }
      ]
    },
    {
      "cell_type": "markdown",
      "source": [
        "### 10. How can you append data to an existing file in Python"
      ],
      "metadata": {
        "id": "LuTuWhKIc2EJ"
      }
    },
    {
      "cell_type": "code",
      "source": [
        "try:\n",
        "    with open(\"example.txt\", \"a\") as file:      #this will create file if not available\n",
        "        file.write(\"This is appended text.\\n\")\n",
        "    print(\"Data appended successfully.\")\n",
        "except FileNotFoundError:\n",
        "    print(\"Error: File not found.\")\n"
      ],
      "metadata": {
        "colab": {
          "base_uri": "https://localhost:8080/"
        },
        "id": "y6DrkSDic6N-",
        "outputId": "69c83075-d491-4d87-db98-cb3c426090a4"
      },
      "execution_count": 7,
      "outputs": [
        {
          "output_type": "stream",
          "name": "stdout",
          "text": [
            "Data appended successfully.\n"
          ]
        }
      ]
    },
    {
      "cell_type": "markdown",
      "source": [
        "### 11. Write a Python program that uses a try-except block to handle an error when attempting to access a dictionary key that doesn't exist."
      ],
      "metadata": {
        "id": "36SQk3p5c_4n"
      }
    },
    {
      "cell_type": "code",
      "source": [
        "data = {\"name\": \"Alice\", \"age\": 25}\n",
        "\n",
        "try:\n",
        "    value = data[\"city\"]  # Key that doesn't exist\n",
        "    print(f\"City: {value}\")\n",
        "except KeyError:\n",
        "    print(\"Error: Key 'city' does not exist in the dictionary.\")\n"
      ],
      "metadata": {
        "colab": {
          "base_uri": "https://localhost:8080/"
        },
        "id": "zkMb-Rm8dKFF",
        "outputId": "2eb85dc9-da27-4508-9288-40c0ce2939a2"
      },
      "execution_count": 8,
      "outputs": [
        {
          "output_type": "stream",
          "name": "stdout",
          "text": [
            "Error: Key 'city' does not exist in the dictionary.\n"
          ]
        }
      ]
    },
    {
      "cell_type": "markdown",
      "source": [
        "### 12.  Write a program that demonstrates using multiple except blocks to handle different types of exceptions."
      ],
      "metadata": {
        "id": "sTuzvt2NdNaD"
      }
    },
    {
      "cell_type": "code",
      "source": [
        "try:\n",
        "    num = int(input(\"Enter a number: \"))\n",
        "    result = 10 / num\n",
        "    print(f\"The result is: {result}\")\n",
        "except ZeroDivisionError:\n",
        "    print(\"Error: Cannot divide by zero.\")\n",
        "except ValueError:\n",
        "    print(\"Error: Invalid input. Please enter a number.\")\n",
        "except Exception as e:\n",
        "    print(f\"An unexpected error occurred: {e}\")\n"
      ],
      "metadata": {
        "colab": {
          "base_uri": "https://localhost:8080/"
        },
        "id": "PMjRsk7gdO4K",
        "outputId": "d3f4ac9a-b091-419d-ce8b-b47847079a38"
      },
      "execution_count": 9,
      "outputs": [
        {
          "output_type": "stream",
          "name": "stdout",
          "text": [
            "Enter a number: 0\n",
            "Error: Cannot divide by zero.\n"
          ]
        }
      ]
    },
    {
      "cell_type": "markdown",
      "source": [
        "### 13. How would you check if a file exists before attempting to read it in Python?"
      ],
      "metadata": {
        "id": "CRyR4XQVdVLA"
      }
    },
    {
      "cell_type": "code",
      "source": [
        "import os\n",
        "\n",
        "file_name = \"example.txt\"\n",
        "\n",
        "if os.path.exists(file_name):\n",
        "    with open(file_name, \"r\") as file:\n",
        "        content = file.read()\n",
        "        print(content)\n",
        "else:\n",
        "    print(f\"Error: The file '{file_name}' does not exist.\")\n"
      ],
      "metadata": {
        "id": "ccDnk3ZRdUVV"
      },
      "execution_count": null,
      "outputs": []
    },
    {
      "cell_type": "markdown",
      "source": [
        "### 14. Write a program that uses the logging module to log both informational and error messages."
      ],
      "metadata": {
        "id": "B02taF_JdbJU"
      }
    },
    {
      "cell_type": "code",
      "source": [
        "import logging\n",
        "\n",
        "# Configure logging\n",
        "logging.basicConfig(\n",
        "    filename=\"info_error.log\",\n",
        "    level=logging.DEBUG,\n",
        "    format=\"%(asctime)s - %(levelname)s - %(message)s\", force = True\n",
        ")\n",
        "\n",
        "try:\n",
        "    numerator = int(input(\"Enter the numerator: \"))\n",
        "    denominator = int(input(\"Enter the denominator: \"))\n",
        "    result = numerator / denominator\n",
        "    logging.info(\"Division performed successfully.\")\n",
        "    print(f\"The result is: {result}\")\n",
        "except ZeroDivisionError:\n",
        "    logging.error(\"Attempted division by zero.\")\n",
        "    print(\"Error: Cannot divide by zero.\")\n",
        "except Exception as e:\n",
        "    logging.error(f\"Unexpected error: {e}\")\n",
        "finally:\n",
        "    logging.shutdown()"
      ],
      "metadata": {
        "colab": {
          "base_uri": "https://localhost:8080/"
        },
        "id": "2y4A4hBwdQRs",
        "outputId": "30a08f82-5de1-4fe6-edc5-f38b4805d1c2"
      },
      "execution_count": 10,
      "outputs": [
        {
          "output_type": "stream",
          "name": "stdout",
          "text": [
            "Enter the numerator: 9\n",
            "Enter the denominator: 3\n",
            "The result is: 3.0\n"
          ]
        }
      ]
    },
    {
      "cell_type": "markdown",
      "source": [
        "### 15. Write a Python program that prints the content of a file and handles the case when the file is empty."
      ],
      "metadata": {
        "id": "hapUUOH9do3n"
      }
    },
    {
      "cell_type": "code",
      "source": [
        "try:\n",
        "    with open(\"example.txt\", \"r\") as file:\n",
        "        content = file.read()\n",
        "        if not content:  # Check if the file is empty\n",
        "            print(\"The file is empty.\")\n",
        "        else:\n",
        "            print(\"File content:\")\n",
        "            print(content)\n",
        "except FileNotFoundError:\n",
        "    print(\"Error: File not found.\")\n"
      ],
      "metadata": {
        "id": "0NQVCxWUdr2L"
      },
      "execution_count": null,
      "outputs": []
    },
    {
      "cell_type": "markdown",
      "source": [
        "### 16. Demonstrate how to use memory profiling to check the memory usage of a small program."
      ],
      "metadata": {
        "id": "E8-XIBOkdtv4"
      }
    },
    {
      "cell_type": "code",
      "source": [
        "pip install memory-profiler\n"
      ],
      "metadata": {
        "colab": {
          "base_uri": "https://localhost:8080/"
        },
        "id": "JI-oaUtneCNo",
        "outputId": "4bd113ed-0829-4f57-bf0f-142b2a39c5d0"
      },
      "execution_count": 12,
      "outputs": [
        {
          "output_type": "stream",
          "name": "stdout",
          "text": [
            "Collecting memory-profiler\n",
            "  Downloading memory_profiler-0.61.0-py3-none-any.whl.metadata (20 kB)\n",
            "Requirement already satisfied: psutil in /usr/local/lib/python3.10/dist-packages (from memory-profiler) (5.9.5)\n",
            "Downloading memory_profiler-0.61.0-py3-none-any.whl (31 kB)\n",
            "Installing collected packages: memory-profiler\n",
            "Successfully installed memory-profiler-0.61.0\n"
          ]
        }
      ]
    },
    {
      "cell_type": "code",
      "source": [
        "from memory_profiler import profile\n",
        "\n",
        "@profile\n",
        "def compute_squares():\n",
        "    squares = [i**2 for i in range(100000)]  # Memory-intensive operation\n",
        "    return squares\n",
        "\n",
        "if __name__ == \"__main__\":\n",
        "    compute_squares()\n"
      ],
      "metadata": {
        "colab": {
          "base_uri": "https://localhost:8080/"
        },
        "id": "Y6wwSxzBd4ae",
        "outputId": "e62b9209-de04-4600-e539-4443887fc343"
      },
      "execution_count": 13,
      "outputs": [
        {
          "output_type": "stream",
          "name": "stderr",
          "text": [
            "\n",
            "PYDEV DEBUGGER WARNING:\n",
            "sys.settrace() should not be used when the debugger is being used.\n",
            "This may cause the debugger to stop working correctly.\n",
            "If this is needed, please check: \n",
            "http://pydev.blogspot.com/2007/06/why-cant-pydev-debugger-work-with.html\n",
            "to see how to restore the debug tracing back correctly.\n",
            "Call Location:\n",
            "  File \"/usr/local/lib/python3.10/dist-packages/memory_profiler.py\", line 847, in enable\n",
            "    sys.settrace(self.trace_memory_usage)\n",
            "\n",
            "\n",
            "PYDEV DEBUGGER WARNING:\n",
            "sys.settrace() should not be used when the debugger is being used.\n",
            "This may cause the debugger to stop working correctly.\n",
            "If this is needed, please check: \n",
            "http://pydev.blogspot.com/2007/06/why-cant-pydev-debugger-work-with.html\n",
            "to see how to restore the debug tracing back correctly.\n",
            "Call Location:\n",
            "  File \"/usr/local/lib/python3.10/dist-packages/memory_profiler.py\", line 850, in disable\n",
            "    sys.settrace(self._original_trace_function)\n",
            "\n"
          ]
        },
        {
          "output_type": "stream",
          "name": "stdout",
          "text": [
            "ERROR: Could not find file <ipython-input-13-e0ae8a5fc89c>\n",
            "NOTE: %mprun can only be used on functions defined in physical files, and not in the IPython environment.\n"
          ]
        }
      ]
    },
    {
      "cell_type": "markdown",
      "source": [
        "### 17. Write a Python program to create and write a list of numbers to a file, one number per line."
      ],
      "metadata": {
        "id": "aDbXv6UueY75"
      }
    },
    {
      "cell_type": "code",
      "source": [
        "numbers = [1, 2, 3, 4, 5]\n",
        "\n",
        "try:\n",
        "    with open(\"numbers.txt\", \"w\") as file:\n",
        "        for number in numbers:\n",
        "            file.write(f\"{number}\\n\")\n",
        "    print(\"Numbers written to file successfully.\")\n",
        "except Exception as e:\n",
        "    print(f\"An error occurred: {e}\")\n"
      ],
      "metadata": {
        "id": "fh04xpMWd_63"
      },
      "execution_count": null,
      "outputs": []
    },
    {
      "cell_type": "markdown",
      "source": [
        "### 18. How would you implement a basic logging setup that logs to a file with rotation after 1MB?"
      ],
      "metadata": {
        "id": "bmXI8dHUedWm"
      }
    },
    {
      "cell_type": "code",
      "source": [
        "import logging\n",
        "from logging.handlers import RotatingFileHandler\n",
        "\n",
        "# Configure logging with rotation\n",
        "handler = RotatingFileHandler(\"rotating.log\", maxBytes=1_000_000, backupCount=3)\n",
        "logging.basicConfig(\n",
        "    level=logging.DEBUG,\n",
        "    format=\"%(asctime)s - %(levelname)s - %(message)s\", force = True,\n",
        "    handlers=[handler]\n",
        ")\n",
        "\n",
        "# Log messages\n",
        "logging.info(\"This is an informational message.\")\n",
        "logging.error(\"This is an error message.\")\n",
        "logging.shutdown()"
      ],
      "metadata": {
        "id": "jyBkOvKLeh9J"
      },
      "execution_count": 14,
      "outputs": []
    },
    {
      "cell_type": "markdown",
      "source": [
        "### 19. Write a program that handles both IndexError and KeyError using a try-except block."
      ],
      "metadata": {
        "id": "s7sm3kdOeqSQ"
      }
    },
    {
      "cell_type": "code",
      "source": [
        "data = {\"name\": \"Alice\", \"age\": 25}\n",
        "list_data = [10, 20, 30]\n",
        "\n",
        "try:\n",
        "    print(data[\"city\"])  # KeyError\n",
        "    print(list_data[5])  # IndexError\n",
        "except KeyError:\n",
        "    print(\"Error: Key not found in the dictionary.\")\n",
        "except IndexError:\n",
        "    print(\"Error: List index is out of range.\")\n"
      ],
      "metadata": {
        "colab": {
          "base_uri": "https://localhost:8080/"
        },
        "id": "7t1YIV2Feui0",
        "outputId": "db222a73-decd-4ac7-e83e-ab0cf575a844"
      },
      "execution_count": 15,
      "outputs": [
        {
          "output_type": "stream",
          "name": "stdout",
          "text": [
            "Error: Key not found in the dictionary.\n"
          ]
        }
      ]
    },
    {
      "cell_type": "markdown",
      "source": [
        "### 20. How would you open a file and read its contents using a context manager in Python?"
      ],
      "metadata": {
        "id": "mEe16InGe085"
      }
    },
    {
      "cell_type": "code",
      "source": [
        "try:\n",
        "    with open(\"example.txt\", \"r\") as file:\n",
        "        content = file.read()\n",
        "        print(\"File content:\")\n",
        "        print(content)\n",
        "except FileNotFoundError:\n",
        "    print(\"Error: The file does not exist.\")\n"
      ],
      "metadata": {
        "colab": {
          "base_uri": "https://localhost:8080/"
        },
        "id": "Q5Ql5SS6e22K",
        "outputId": "88f23a0c-141a-4265-d027-a71fee92e569"
      },
      "execution_count": 16,
      "outputs": [
        {
          "output_type": "stream",
          "name": "stdout",
          "text": [
            "File content:\n",
            "This is appended text.\n",
            "\n"
          ]
        }
      ]
    },
    {
      "cell_type": "markdown",
      "source": [
        "### 21. Write a Python program that reads a file and prints the number of occurrences of a specific word."
      ],
      "metadata": {
        "id": "VfyLED0Oe8tn"
      }
    },
    {
      "cell_type": "code",
      "source": [
        "word_to_find = \"Python\"\n",
        "\n",
        "try:\n",
        "    with open(\"example.txt\", \"r\") as file:\n",
        "        content = file.read()\n",
        "        count = content.lower().count(word_to_find.lower())\n",
        "        print(f\"The word '{word_to_find}' appears {count} times in the file.\")\n",
        "except FileNotFoundError:\n",
        "    print(\"Error: File not found.\")\n"
      ],
      "metadata": {
        "colab": {
          "base_uri": "https://localhost:8080/"
        },
        "id": "MQIlW0CUe5n0",
        "outputId": "c13c1b67-7d31-4dde-8eb4-e04b4182a9d0"
      },
      "execution_count": 17,
      "outputs": [
        {
          "output_type": "stream",
          "name": "stdout",
          "text": [
            "The word 'Python' appears 0 times in the file.\n"
          ]
        }
      ]
    },
    {
      "cell_type": "markdown",
      "source": [
        "### 22. How can you check if a file is empty before attempting to read its contents?"
      ],
      "metadata": {
        "id": "CGHaEBv7fCiP"
      }
    },
    {
      "cell_type": "code",
      "source": [
        "import os\n",
        "\n",
        "file_name = \"example.txt\"\n",
        "\n",
        "if os.path.exists(file_name) and os.stat(file_name).st_size == 0:\n",
        "    print(\"The file is empty.\")\n",
        "elif os.path.exists(file_name):\n",
        "    with open(file_name, \"r\") as file:\n",
        "        content = file.read()\n",
        "        print(\"File content:\")\n",
        "        print(content)\n",
        "else:\n",
        "    print(f\"Error: The file '{file_name}' does not exist.\")\n"
      ],
      "metadata": {
        "id": "_Lm2SDE5e_JI"
      },
      "execution_count": null,
      "outputs": []
    },
    {
      "cell_type": "markdown",
      "source": [
        "### 23. Write a Python program that writes to a log file when an error occurs during file handling."
      ],
      "metadata": {
        "id": "wsxpD5_EfIUW"
      }
    },
    {
      "cell_type": "code",
      "source": [
        "import logging\n",
        "\n",
        "# Configure logging\n",
        "logging.basicConfig(\n",
        "    filename=\"file_error.log\",\n",
        "    level=logging.ERROR,\n",
        "    format=\"%(asctime)s - %(levelname)s - %(message)s\", force = True\n",
        ")\n",
        "\n",
        "try:\n",
        "    with open(\"nonexistent_file.txt\", \"r\") as file:\n",
        "        content = file.read()\n",
        "except FileNotFoundError:\n",
        "    logging.error(\"Attempted to read a non-existent file.\")\n",
        "    print(\"Error: File not found.\")\n",
        "finally:\n",
        "    logging.shutdown()"
      ],
      "metadata": {
        "colab": {
          "base_uri": "https://localhost:8080/"
        },
        "id": "i05CroISfLRt",
        "outputId": "28f0d965-2c17-4297-e9bf-7dfa50f38365"
      },
      "execution_count": 18,
      "outputs": [
        {
          "output_type": "stream",
          "name": "stdout",
          "text": [
            "Error: File not found.\n"
          ]
        }
      ]
    }
  ]
}