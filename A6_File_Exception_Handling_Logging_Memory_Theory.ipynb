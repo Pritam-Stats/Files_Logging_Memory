{
  "nbformat": 4,
  "nbformat_minor": 0,
  "metadata": {
    "colab": {
      "provenance": []
    },
    "kernelspec": {
      "name": "python3",
      "display_name": "Python 3"
    },
    "language_info": {
      "name": "python"
    }
  },
  "cells": [
    {
      "cell_type": "markdown",
      "source": [
        "# Theory"
      ],
      "metadata": {
        "id": "ruvRPIRO8qRf"
      }
    },
    {
      "cell_type": "markdown",
      "source": [
        "###**1. What is the difference between interpreted and compiled languages?**\n",
        "\n",
        "\n",
        "**Interpreted Languages:**\n",
        "* Code is *executed line by line by an interpreter*. For example **Python**, Javascript.\n",
        "\n",
        "* Genrally easier to read and debug and protable across platforms but **Slower** due to line by line execution.\n",
        "\n",
        "**Compiled Languages**\n",
        "* Code is *transformed into machine language code* (byte code, or in binary format) by a compiler and creates an executable file like .exe for windows, Mach-O for macOS before execution. For example **C**, **C++**, **Java**.\n",
        "\n",
        "* Compiled languages are generally faster but platform specific (OS specific) and difficult to debug during compilation."
      ],
      "metadata": {
        "id": "lGW3mGdB9Asl"
      }
    },
    {
      "cell_type": "markdown",
      "source": [
        "###**2. What is exception handling in Python?**\n",
        "\n",
        "> Exception handling in python is a technique to manage the runtime errors or exceptions which prevents the whole program or script to be stopped at an error. It allows us to know about the errors without stopping the program flow.\n",
        "* This allow us to give customized error mesaage  which makes it easier to identidy and fix the errors and avoid termination of the program at an error.\n",
        "* We use `try-except-else-finally` block of codes to manage the exceptions, especially the `try-except` block.\n",
        "    * In the try block we specify the main block of code which we want to be executed and in the except block we specify a specified error which might occur and give our personalised message about the error also as we can use multiple except blocks, we also mention the module of all exceptions namely `Exception` in the next except block as a backup to handle any unexpected error.\n",
        "    * And optionally we use the else block which executes when no exceptions occured, i.e., when the try block executes successfully. And the finally block executes always without depending on the other blocks."
      ],
      "metadata": {
        "id": "Dy4tAg-U9Uck"
      }
    },
    {
      "cell_type": "code",
      "source": [
        "# EXAMPLE\n",
        "try:\n",
        "    # Get numbers from the user\n",
        "    numerator = int(input(\"Enter the numerator: \"))\n",
        "    denominator = int(input(\"Enter the denominator: \"))\n",
        "\n",
        "    # Perform division\n",
        "    result = numerator / denominator\n",
        "    print(f\"The result is: {result}\")\n",
        "except ZeroDivisionError as z:\n",
        "    print(f\"Error: {z}.. Division by zero is not allowed. Please provide a non-zero denominator..\")\n",
        "except ValueError as v:\n",
        "    print(f\"Error: {v}.. Invalid input..\")      #for any non numeric input\n",
        "except Exception as e:\n",
        "    print(f\"An error occurred due to: {e}\")\n",
        "else:\n",
        "    print(\"Division performed successfully.\")       #this block will be executed only if the try block executes successfully\n",
        "finally:\n",
        "    print(\"\\nThank you for using the division program.\")        #this will be executed always"
      ],
      "metadata": {
        "colab": {
          "base_uri": "https://localhost:8080/"
        },
        "id": "9BHRGigkcnwH",
        "outputId": "41a9bce7-db16-441c-b2f9-37f18cd800db"
      },
      "execution_count": null,
      "outputs": [
        {
          "output_type": "stream",
          "name": "stdout",
          "text": [
            "Enter the numerator: 9\n",
            "Enter the denominator: 0\n",
            "Error: division by zero.. Division by zero is not allowed. Please provide a non-zero denominator..\n",
            "\n",
            "Thank you for using the division program.\n"
          ]
        }
      ]
    },
    {
      "cell_type": "markdown",
      "source": [
        "###**3. What is the purpose of the finally block in exception handling?**\n",
        "\n",
        "->The `finally` block is used to define a end message or complete the whole program which will always be executed, regardless any exception occurs or not.\n",
        "* This becomes helpful when we don't use the with keyword to open a file so in the finally block we close the file manually."
      ],
      "metadata": {
        "id": "js0ddL5r9exz"
      }
    },
    {
      "cell_type": "code",
      "source": [
        "# EXAMPLE\n",
        "try:\n",
        "    file = open(\"example.txt\", \"w\")     #open a file in w mode, which will create a file if not available\n",
        "    content = file.write(\"This is new file.\")\n",
        "\n",
        "except FileNotFoundError:\n",
        "    print(\"File not found.\")\n",
        "\n",
        "\n",
        "finally:\n",
        "    # Always executed\n",
        "    file.close()  # This block Ensures the file is closed regardless of error and without closing the file a new file won't be shown so this step become crucial\n",
        "    print(\"The program is succesfully executed.\")"
      ],
      "metadata": {
        "colab": {
          "base_uri": "https://localhost:8080/"
        },
        "id": "jRozNge9eJfl",
        "outputId": "96c79b28-6bf1-41b6-fe70-fb7d706ec6cb"
      },
      "execution_count": null,
      "outputs": [
        {
          "output_type": "stream",
          "name": "stdout",
          "text": [
            "The program is succesfully executed.\n"
          ]
        }
      ]
    },
    {
      "cell_type": "markdown",
      "source": [
        "###**4. What is logging in Python?**\n",
        "\n",
        "-> Logging in Python is a way to track events that happen when a program runs. The logging module provides us some methods for storing log messages of our Python programs. Logging are most useful to identify and resolves the errors within our code, also helps us to monitor the performance of our program.\n",
        "\n",
        "*Logging Levels*-\n",
        "* `DEBUG`: Detailed information, useful for diagnosing problems.\n",
        "* `INFO`: Confirmation that things are working as expected.\n",
        "* `WARNING`: Indication of something unexpected but non-critical.\n",
        "* `ERROR`: Due to a more serious problem, the program may not be able to continue.\n",
        "* `CRITICAL`: A very serious error indicating that the program may terminate.\n",
        "\n"
      ],
      "metadata": {
        "id": "NSR-5Rg89qSy"
      }
    },
    {
      "cell_type": "code",
      "source": [
        "import logging\n",
        "\n",
        "# Configure logging to write messages to a file\n",
        "logging.basicConfig(\n",
        "    filename = \"test.log\",  # Name of the log file\n",
        "    level = logging.DEBUG,  # Log all levels (DEBUG and above)\n",
        "    format = '%(asctime)s  %(levelname)s  %(message)s' , force = True\n",
        ")\n",
        "## the code was not working in colab, no log file was being created, thats why used the force argument\n",
        "# Log messages\n",
        "logging.debug(\"Debug message: Useful for troubleshooting.\")\n",
        "logging.info(\"Info message: General operational message.\")\n",
        "logging.warning(\"Warning message: Something unexpected happened.\")\n",
        "logging.error(\"Error message: An error occurred.\")\n",
        "logging.critical(\"Critical message: Serious issue, potential crash.\")\n",
        "logging.shutdown()"
      ],
      "metadata": {
        "id": "KoIvau-cR4JH"
      },
      "execution_count": 6,
      "outputs": []
    },
    {
      "cell_type": "markdown",
      "source": [
        "###**5. What is the significance of the `__del__` method in Python?**\n",
        "\n",
        "-> The `__del__` method in Python is a special method, also known as a destructor, which is called when an object needs to be destroyed. It allows us  to define cleanup behavior, such as releasing resources or performing finalization tasks. This method ensures resource management when an object is no longer needed.\n"
      ],
      "metadata": {
        "id": "gb931xx2-JO7"
      }
    },
    {
      "cell_type": "code",
      "source": [
        "class FileHandler:\n",
        "    def __init__(self, filename):\n",
        "        self.file = open(filename, \"w\")\n",
        "        print(f\"File '{filename}' opened.\")\n",
        "\n",
        "    def write(self, content):\n",
        "        self.file.write(content)\n",
        "\n",
        "    def __del__(self):\n",
        "        self.file.close()\n",
        "        print(\"File closed.\")\n",
        "\n",
        "# Create an object and write to a file\n",
        "handler = FileHandler(\"example.txt\")\n",
        "handler.write(\"Hello, world!\")\n",
        "\n",
        "# Deleting the object manually (or when it goes out of scope)\n",
        "del handler\n"
      ],
      "metadata": {
        "colab": {
          "base_uri": "https://localhost:8080/"
        },
        "id": "QisHP_MkW8_5",
        "outputId": "d59d68b3-3d97-479e-edd3-6f7e99ac8541"
      },
      "execution_count": 7,
      "outputs": [
        {
          "output_type": "stream",
          "name": "stdout",
          "text": [
            "File 'example.txt' opened.\n",
            "File closed.\n"
          ]
        }
      ]
    },
    {
      "cell_type": "markdown",
      "source": [
        "###6. What is the difference between import and from ... import in Python?\n",
        "\n",
        "import is useful when multiple functions are needed from a module or when we don't really know how many functions will be needed.\n",
        "whereas  `from ... import` is ideal for importing specific methods and functions from a certain library, this also saves memory and execution time."
      ],
      "metadata": {
        "id": "JVToe5w2-QzG"
      }
    },
    {
      "cell_type": "code",
      "source": [
        "import math     #here we are importing the whole math module\n",
        "print(math.sqrt(16))  # Access functions using module_name.function_name\n"
      ],
      "metadata": {
        "colab": {
          "base_uri": "https://localhost:8080/"
        },
        "id": "lgkymfI5X68N",
        "outputId": "cae412b2-133e-41be-91c7-2c9062edf7c7"
      },
      "execution_count": 8,
      "outputs": [
        {
          "output_type": "stream",
          "name": "stdout",
          "text": [
            "4.0\n"
          ]
        }
      ]
    },
    {
      "cell_type": "code",
      "source": [
        "from math import sqrt       #here we specifically importing the sqrt function from the module\n",
        "print(sqrt(16))  # Access directly without module name\n"
      ],
      "metadata": {
        "colab": {
          "base_uri": "https://localhost:8080/"
        },
        "id": "hDGVNt-AYCFk",
        "outputId": "c92276e2-ff5f-4638-fd2b-7678854664f2"
      },
      "execution_count": 9,
      "outputs": [
        {
          "output_type": "stream",
          "name": "stdout",
          "text": [
            "4.0\n"
          ]
        }
      ]
    },
    {
      "cell_type": "markdown",
      "source": [
        "####**7. How can you handle multiple exceptions in Python?**\n",
        "\n",
        "Using multiple except blocks for specific exceptions or at the end block by using the `Exception` module. Or we can also use a tuple of exceptions in a single except block."
      ],
      "metadata": {
        "id": "PoFY7PHXYO_O"
      }
    },
    {
      "cell_type": "code",
      "source": [
        "try:\n",
        "    num = int(input(\"Enter a number: \"))\n",
        "    result = 10 / num\n",
        "except (ValueError, ZeroDivisionError) as e:\n",
        "    print(f\"Error: {e}\")\n"
      ],
      "metadata": {
        "colab": {
          "base_uri": "https://localhost:8080/"
        },
        "id": "okTRGCn5Ys3T",
        "outputId": "b2d541e1-4021-4ab2-f39a-ce5fd014e5f4"
      },
      "execution_count": 10,
      "outputs": [
        {
          "output_type": "stream",
          "name": "stdout",
          "text": [
            "Enter a number: 0\n",
            "Error: division by zero\n"
          ]
        }
      ]
    },
    {
      "cell_type": "markdown",
      "source": [
        "### 8. What is the purpose of the with statement when handling files in Python?\n",
        "\n",
        "The with statement simplifies file handling by:\n",
        "\n",
        "Ensuring the file is properly closed after operations, even if exceptions occur. So we don't need to use file.close() explicitly."
      ],
      "metadata": {
        "id": "Bi_vI7hzY2Pb"
      }
    },
    {
      "cell_type": "code",
      "source": [
        "with open(\"example.txt\", \"r\") as file:\n",
        "    content = file.read()\n",
        "print(content)  # File automatically closed\n"
      ],
      "metadata": {
        "colab": {
          "base_uri": "https://localhost:8080/"
        },
        "id": "w6FgksISYyPI",
        "outputId": "4d751b68-216f-409d-b8bb-c4599fecb8d0"
      },
      "execution_count": 11,
      "outputs": [
        {
          "output_type": "stream",
          "name": "stdout",
          "text": [
            "Hello, world!\n"
          ]
        }
      ]
    },
    {
      "cell_type": "markdown",
      "source": [
        "### 9. What is the difference between multithreading and multiprocessing?\n",
        "\n",
        "1. Multithreading:\n",
        "\n",
        "Executes multiple threads within a single process.\n",
        "Best for I/O-bound tasks.\n",
        "Limited by Python’s GIL (Global Interpreter Lock) for CPU-bound tasks.\n",
        "\n",
        "2. Multiprocessing:\n",
        "\n",
        "Executes multiple processes, each with its own memory space.\n",
        "Best for CPU-bound tasks.\n",
        "Fully utilizes multiple CPU cores."
      ],
      "metadata": {
        "id": "YWbM41yUZPUu"
      }
    },
    {
      "cell_type": "markdown",
      "source": [
        "### 11. What is memory management in Python?\n",
        "\n",
        "-> Memory management in Python refers to:\n",
        "\n",
        "* Allocating and deallocating memory for variables and data structures.\n",
        "* Managed automatically by Python’s garbage collector.\n",
        "\n",
        "Some Key features of memory managements includes:\n",
        "* Heap Memory: Stores objects and data structures.\n",
        "* Reference Counting: Tracks the number of references to objects."
      ],
      "metadata": {
        "id": "M9vrwt0ZZimu"
      }
    },
    {
      "cell_type": "markdown",
      "source": [
        "### 12. What are the basic steps involved in exception handling in Python?\n",
        "\n",
        "\n",
        "\n",
        "`try` : Write code that may raise exceptions.\n",
        "\n",
        "`except` : Catch and handle specific exceptions.\n",
        "\n",
        "`else` : Executes if no exceptions occur.\n",
        "\n",
        "`finally` : Executes cleanup code, whether exceptions occur or not.\n",
        "\n",
        "* Though the most important steps are `try-except` blocks and the others are optional."
      ],
      "metadata": {
        "id": "jHbjky3oaMmG"
      }
    },
    {
      "cell_type": "code",
      "source": [
        "# EXAMPLE\n",
        "try:\n",
        "    result = 10 / int(input(\"Enter a number: \"))\n",
        "except ZeroDivisionError:\n",
        "    print(\"Cannot divide by zero.\")\n",
        "else:\n",
        "    print(f\"Result: {result}\")\n",
        "finally:\n",
        "    print(\"Execution complete.\")\n"
      ],
      "metadata": {
        "colab": {
          "base_uri": "https://localhost:8080/"
        },
        "id": "21lu-Q97atc3",
        "outputId": "a6c45bfe-9f0f-45d7-9816-34d423a52b2a"
      },
      "execution_count": 12,
      "outputs": [
        {
          "output_type": "stream",
          "name": "stdout",
          "text": [
            "Enter a number: 9\n",
            "Result: 1.1111111111111112\n",
            "Execution complete.\n"
          ]
        }
      ]
    },
    {
      "cell_type": "markdown",
      "source": [
        "### 13. Why is memory management important in Python?\n",
        "\n",
        "Memory management is crucial for:\n",
        "\n",
        "* Efficient use of resources, especially in large-scale applications.\n",
        "* Preventing memory leaks that degrade performance.\n",
        "* Ensuring objects no longer in use are deallocated automatically."
      ],
      "metadata": {
        "id": "n_JJ5aFPasuT"
      }
    },
    {
      "cell_type": "markdown",
      "source": [
        "### 14. What is the role of try and except in exception handling?\n",
        "\n",
        "`try` Block: Contains code that may raise exceptions.\n",
        "\n",
        "`except` Block: Catches and handles exceptions raised in the try block.\n",
        "Prevents unexpected program crashes.\n"
      ],
      "metadata": {
        "id": "HIVzul5HbDEM"
      }
    },
    {
      "cell_type": "code",
      "source": [
        "#EXAMPLE\n",
        "try:\n",
        "    numerator = int(input(\"Enter numerator: \"))\n",
        "    denominator = int(input(\"Enter denominator: \"))\n",
        "    result = numerator / denominator\n",
        "except ZeroDivisionError:\n",
        "    print(\"Error: Cannot divide by zero.\")\n",
        "except ValueError:\n",
        "    print(\"Error: Invalid input. Please enter valid integers.\")\n",
        "else:\n",
        "    print(f\"The result is: {result}\")\n",
        "finally:\n",
        "    print(\"Execution completed.\")\n"
      ],
      "metadata": {
        "colab": {
          "base_uri": "https://localhost:8080/"
        },
        "id": "xJLf_bUwm1n3",
        "outputId": "702c288c-04f1-429c-889b-e0d6a9d08a30"
      },
      "execution_count": 17,
      "outputs": [
        {
          "output_type": "stream",
          "name": "stdout",
          "text": [
            "Enter numerator: 9\n",
            "Enter denominator: 0\n",
            "Error: Cannot divide by zero.\n",
            "Execution completed.\n"
          ]
        }
      ]
    },
    {
      "cell_type": "markdown",
      "source": [
        "### 15. How does Python's garbage collection system work?\n",
        "\n",
        "*Python's garbage collector:*\n",
        "\n",
        "* Tracks Objects: Uses reference counting to track object usage.\n",
        "* Deallocates Memory: Deletes objects with zero references.\n",
        "* Handles Cycles: Uses the gc module to clean up circular references."
      ],
      "metadata": {
        "id": "iyM3lVb9bh5t"
      }
    },
    {
      "cell_type": "markdown",
      "source": [
        "### 16.  What is the purpose of the else block in exception handling\n",
        "\n",
        "The else block in Python's exception handling is used to execute code only if no exceptions occur in the try block."
      ],
      "metadata": {
        "id": "kw2nWxr_nspi"
      }
    },
    {
      "cell_type": "code",
      "source": [
        "try:\n",
        "    n = 9\n",
        "    d = 3\n",
        "    result = n / d\n",
        "except ZeroDivisionError:\n",
        "    print(\"Error: Cannot divide by zero.\")\n",
        "except ValueError:\n",
        "    print(\"Error: Invalid input. Please enter valid integers.\")\n",
        "else:\n",
        "    # This block executes only if no exception occurs\n",
        "    print(f\"The result is: {result}\")\n",
        "finally:\n",
        "    print(\"Execution completed.\")\n"
      ],
      "metadata": {
        "colab": {
          "base_uri": "https://localhost:8080/"
        },
        "id": "jI2va3QHoS5m",
        "outputId": "3bcae292-23a7-44fa-ef7b-599afcb0d81f"
      },
      "execution_count": 19,
      "outputs": [
        {
          "output_type": "stream",
          "name": "stdout",
          "text": [
            "The result is: 3.0\n",
            "Execution completed.\n"
          ]
        }
      ]
    },
    {
      "cell_type": "markdown",
      "source": [
        "### 17.  What are the common logging levels in Python.\n",
        "\n",
        "Python's logging module provides several logging levels, which allow us to classify the intensity of log messages. These levels control the importance of messages logged and can be used to filter which messages should be captured in logs.\n",
        "\n",
        "*Common Logging Levels:*\n",
        "\n",
        "1. `DEBUG`: The lowest level. Logs detailed information, typically useful for debugging.\n",
        "Example: logging.debug(\"This is a debug message.\")\n",
        "\n",
        "2. `INFO`: Logs general information about the application’s execution, typically used for normal operations.\n",
        "Example: logging.info(\"This is an info message.\")\n",
        "\n",
        "\n",
        "3. `WARNING`: Indicates that something unexpected happened, but the program is still functioning.\n",
        "Example: logging.warning(\"This is a warning message.\")\n",
        "\n",
        "\n",
        "4. `ERROR`: Logs an error that prevents a specific operation from completing but doesn't stop the entire program.\n",
        "Example: logging.error(\"This is an error message.\")\n",
        "\n",
        "5. `CRITICAL`: The highest level, used for very serious errors that likely lead to program termination.\n",
        "Example: logging.critical(\"This is a critical message.\")"
      ],
      "metadata": {
        "id": "5HSLmThqn4vG"
      }
    },
    {
      "cell_type": "markdown",
      "source": [
        "### 18. What is the difference between os.fork() and multiprocessing in Python?\n",
        "\n",
        "1. `os.fork()`: A low-level system call that creates a new process by duplicating the current process.\n",
        "Available only on UNIX-based systems (Linux, macOS).\n",
        "It directly creates a child process and shares the same memory space.\n",
        "\n",
        "2. Multiprocessing: A Python module that provides higher-level interfaces for process-based parallelism.\n",
        "Works across platforms (Windows and UNIX).\n",
        "Each process created by multiprocessing has its own memory space.\n",
        "\n",
        "The key difference between the two is that `os.fork`() is platform-specific and low-level, while multiprocessing is cross-platform and higher-level, making it easier to use for parallel processing tasks."
      ],
      "metadata": {
        "id": "Xzf582AubzzN"
      }
    },
    {
      "cell_type": "markdown",
      "source": [
        "### 19. What is the importance of closing a file in Python?\n",
        "\n",
        "1. Resource Management: Closing a file releases the system resources (file handle) associated with it.\n",
        "2. Avoid Memory Leaks: If files aren’t closed properly, it may lead to memory leaks or locked files.\n",
        "3. Data Integrity: Ensures that all data is written to the file properly before closing.\n",
        "\n",
        "\n",
        "This is why the use of `with open()` statement becomes essesntial as it automatically closes the file, even in the case of an exception."
      ],
      "metadata": {
        "id": "RFG3Cs3ojAOr"
      }
    },
    {
      "cell_type": "markdown",
      "source": [
        "### 20. What is the difference between file.read() and file.readline() in Python?\n",
        "\n",
        "1. `file.read():`\n",
        "* Reads the entire content of the file as a single string.\n",
        "* Can be memory-intensive for large files.\n",
        "\n",
        "2. `file.readline()`:\n",
        "\n",
        "* Reads a single line from the file at a time.\n",
        "* Ideal for reading large files line-by-line without loading the entire content into memory."
      ],
      "metadata": {
        "id": "Qdp3gw6DkPIo"
      }
    },
    {
      "cell_type": "code",
      "source": [
        "with open(\"example.txt\", \"r\") as file:\n",
        "    content = file.read()"
      ],
      "metadata": {
        "id": "Iek-DxItkq4F"
      },
      "execution_count": 13,
      "outputs": []
    },
    {
      "cell_type": "code",
      "source": [
        "with open(\"example.txt\", \"r\") as file:\n",
        "    line = file.readline()\n",
        "\n",
        "print(line)"
      ],
      "metadata": {
        "colab": {
          "base_uri": "https://localhost:8080/"
        },
        "id": "dMDl-aYTkugi",
        "outputId": "a1a6e6d6-ead9-47da-984d-8ff4197b19f3"
      },
      "execution_count": 14,
      "outputs": [
        {
          "output_type": "stream",
          "name": "stdout",
          "text": [
            "Hello, world!\n"
          ]
        }
      ]
    },
    {
      "cell_type": "markdown",
      "source": [
        "### 21. What is the logging module in Python used for?\n",
        "\n",
        "The logging module is used to log messages during program execution. It allows for tracking of events, errors, and other useful information without interrupting the program's flow.\n",
        "\n",
        "*Key Features:*\n",
        "\n",
        "* Log Levels: Logs messages at different levels (DEBUG, INFO, WARNING, ERROR, CRITICAL).\n",
        "* Persistence: Logs can be written to files, making them available for later analysis.\n"
      ],
      "metadata": {
        "id": "2_QBJHihk27U"
      }
    },
    {
      "cell_type": "markdown",
      "source": [
        "### 22. What is the os module in Python used for in file handling?\n",
        "\n",
        "The os module provides a way to interact with the operating system, particularly for file and directory management.\n",
        "\n",
        "*Key Functions:*\n",
        "\n",
        "* File Handling: os.rename(), os.remove(), os.path.exists(), os.path.getsize()\n",
        "* Directory Handling: os.mkdir(), os.rmdir(), os.listdir()\n",
        "* Path Manipulation: os.path.join(), os.path.abspath()"
      ],
      "metadata": {
        "id": "JmCWD7rSlMui"
      }
    },
    {
      "cell_type": "code",
      "source": [
        "import os\n",
        "if os.path.exists(\"example.txt\"):\n",
        "    print(\"File exists.\")\n"
      ],
      "metadata": {
        "colab": {
          "base_uri": "https://localhost:8080/"
        },
        "id": "K6AQyLcXldrD",
        "outputId": "e42a06e6-b70a-4a27-e882-4cbecf439c26"
      },
      "execution_count": 15,
      "outputs": [
        {
          "output_type": "stream",
          "name": "stdout",
          "text": [
            "File exists.\n"
          ]
        }
      ]
    },
    {
      "cell_type": "markdown",
      "source": [
        "### 23. What are the challenges associated with memory management in Python?\n",
        "\n",
        "1. Garbage Collection: Python uses automatic garbage collection to manage memory, but it is not always precise, especially with circular references.\n",
        "2. Memory Leaks: Objects that are no longer needed may not be properly garbage collected if there are lingering references, leading to memory leaks.\n",
        "3. High Memory Usage: Large data structures (e.g., lists, dictionaries) can consume significant memory, and Python doesn’t provide low-level control over memory allocation.\n",
        "\n",
        "We can use memory profiling tools like memory_profiler and manage memory-intensive objects carefully."
      ],
      "metadata": {
        "id": "bps9ZwRplf8z"
      }
    },
    {
      "cell_type": "markdown",
      "source": [
        "### 24. How do you raise an exception manually in Python?\n",
        "\n",
        "Using the `raise` keyword. This allows us to create custom exceptions or raise standard exceptions when certain conditions are met."
      ],
      "metadata": {
        "id": "uYL07aw2lz7w"
      }
    },
    {
      "cell_type": "code",
      "source": [
        "#EXAMPLE\n",
        "\n",
        "def check_age(age):\n",
        "    if age < 18:\n",
        "        raise ValueError(\"Age must be 18 or older.\")\n",
        "    print(\"Age is valid.\")\n",
        "\n",
        "try:\n",
        "    check_age(16)\n",
        "except ValueError as e:\n",
        "    print(f\"Error: {e}\")\n"
      ],
      "metadata": {
        "colab": {
          "base_uri": "https://localhost:8080/"
        },
        "id": "X-Bi33CHlfPk",
        "outputId": "1bb93c60-e606-406d-b17e-99c37a1836a3"
      },
      "execution_count": 16,
      "outputs": [
        {
          "output_type": "stream",
          "name": "stdout",
          "text": [
            "Error: Age must be 18 or older.\n"
          ]
        }
      ]
    },
    {
      "cell_type": "markdown",
      "source": [
        "### 25. Why is it important to use multithreading in certain applications?\n",
        "\n",
        "Multithreading allows for concurrent execution of tasks, which is particularly useful in applications where we have:\n",
        "\n",
        "* I/O-bound operations: Like file reading, network requests, or database operations, where waiting for one task to complete before starting another is inefficient.\n",
        "* Improved Responsiveness: Keeps the application responsive (e.g., GUI applications) by running tasks in the background.\n",
        "* Better Resource Utilization: Allows the program to perform multiple tasks simultaneously on multi-core processors (though limited by Python’s GIL for CPU-bound tasks).\n",
        "\n",
        "* For example, A web scraper can use multithreading to download multiple web pages concurrently, speeding up the process."
      ],
      "metadata": {
        "id": "D11Vrf0zmUAh"
      }
    },
    {
      "cell_type": "code",
      "source": [],
      "metadata": {
        "id": "GOna9onzppFZ"
      },
      "execution_count": null,
      "outputs": []
    }
  ]
}